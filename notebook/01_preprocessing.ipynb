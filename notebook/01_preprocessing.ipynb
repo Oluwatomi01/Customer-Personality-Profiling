{
 "cells": [
  {
   "cell_type": "code",
   "execution_count": 1,
   "id": "4e06a464-e721-4cfe-bd9b-c7bc4b666600",
   "metadata": {},
   "outputs": [],
   "source": [
    "import json\n",
    "import os"
   ]
  },
  {
   "cell_type": "code",
   "execution_count": 2,
   "id": "564e3494-a443-43d5-8a5b-7cea99c8bcaa",
   "metadata": {
    "scrolled": true
   },
   "outputs": [
    {
     "name": "stdout",
     "output_type": "stream",
     "text": [
      "Requirement already satisfied: openai-whisper in c:\\users\\tomi\\anaconda3\\lib\\site-packages (20250625)Note: you may need to restart the kernel to use updated packages.\n",
      "\n",
      "Collecting pypub\n",
      "  Using cached pypub-1.5-py3-none-any.whl\n",
      "Requirement already satisfied: pandas in c:\\users\\tomi\\anaconda3\\lib\\site-packages (2.2.3)\n",
      "Requirement already satisfied: more-itertools in c:\\users\\tomi\\anaconda3\\lib\\site-packages (from openai-whisper) (10.3.0)\n",
      "Requirement already satisfied: numba in c:\\users\\tomi\\anaconda3\\lib\\site-packages (from openai-whisper) (0.61.0)\n",
      "Requirement already satisfied: numpy in c:\\users\\tomi\\anaconda3\\lib\\site-packages (from openai-whisper) (2.1.3)\n",
      "Requirement already satisfied: tiktoken in c:\\users\\tomi\\anaconda3\\lib\\site-packages (from openai-whisper) (0.11.0)\n",
      "Requirement already satisfied: torch in c:\\users\\tomi\\anaconda3\\lib\\site-packages (from openai-whisper) (2.8.0)\n",
      "Requirement already satisfied: tqdm in c:\\users\\tomi\\anaconda3\\lib\\site-packages (from openai-whisper) (4.67.1)\n",
      "Requirement already satisfied: beautifulsoup4 in c:\\users\\tomi\\anaconda3\\lib\\site-packages (from pypub) (4.12.3)\n",
      "Requirement already satisfied: jinja2 in c:\\users\\tomi\\anaconda3\\lib\\site-packages (from pypub) (3.1.6)\n",
      "Requirement already satisfied: requests in c:\\users\\tomi\\anaconda3\\lib\\site-packages (from pypub) (2.32.3)\n",
      "Requirement already satisfied: python-dateutil>=2.8.2 in c:\\users\\tomi\\anaconda3\\lib\\site-packages (from pandas) (2.9.0.post0)\n",
      "Requirement already satisfied: pytz>=2020.1 in c:\\users\\tomi\\anaconda3\\lib\\site-packages (from pandas) (2024.1)\n",
      "Requirement already satisfied: tzdata>=2022.7 in c:\\users\\tomi\\anaconda3\\lib\\site-packages (from pandas) (2025.2)\n",
      "Requirement already satisfied: six>=1.5 in c:\\users\\tomi\\anaconda3\\lib\\site-packages (from python-dateutil>=2.8.2->pandas) (1.17.0)\n",
      "Requirement already satisfied: soupsieve>1.2 in c:\\users\\tomi\\anaconda3\\lib\\site-packages (from beautifulsoup4->pypub) (2.5)\n",
      "Requirement already satisfied: MarkupSafe>=2.0 in c:\\users\\tomi\\anaconda3\\lib\\site-packages (from jinja2->pypub) (3.0.2)\n",
      "Requirement already satisfied: llvmlite<0.45,>=0.44.0dev0 in c:\\users\\tomi\\anaconda3\\lib\\site-packages (from numba->openai-whisper) (0.44.0)\n",
      "Requirement already satisfied: charset-normalizer<4,>=2 in c:\\users\\tomi\\anaconda3\\lib\\site-packages (from requests->pypub) (3.3.2)\n",
      "Requirement already satisfied: idna<4,>=2.5 in c:\\users\\tomi\\anaconda3\\lib\\site-packages (from requests->pypub) (3.7)\n",
      "Requirement already satisfied: urllib3<3,>=1.21.1 in c:\\users\\tomi\\anaconda3\\lib\\site-packages (from requests->pypub) (2.3.0)\n",
      "Requirement already satisfied: certifi>=2017.4.17 in c:\\users\\tomi\\anaconda3\\lib\\site-packages (from requests->pypub) (2025.8.3)\n",
      "Requirement already satisfied: regex>=2022.1.18 in c:\\users\\tomi\\anaconda3\\lib\\site-packages (from tiktoken->openai-whisper) (2024.11.6)\n",
      "Requirement already satisfied: filelock in c:\\users\\tomi\\anaconda3\\lib\\site-packages (from torch->openai-whisper) (3.17.0)\n",
      "Requirement already satisfied: typing-extensions>=4.10.0 in c:\\users\\tomi\\anaconda3\\lib\\site-packages (from torch->openai-whisper) (4.12.2)\n",
      "Requirement already satisfied: sympy>=1.13.3 in c:\\users\\tomi\\anaconda3\\lib\\site-packages (from torch->openai-whisper) (1.13.3)\n",
      "Requirement already satisfied: networkx in c:\\users\\tomi\\anaconda3\\lib\\site-packages (from torch->openai-whisper) (3.4.2)\n",
      "Requirement already satisfied: fsspec in c:\\users\\tomi\\anaconda3\\lib\\site-packages (from torch->openai-whisper) (2025.3.2)\n",
      "Requirement already satisfied: setuptools in c:\\users\\tomi\\anaconda3\\lib\\site-packages (from torch->openai-whisper) (72.1.0)\n",
      "Requirement already satisfied: mpmath<1.4,>=1.1.0 in c:\\users\\tomi\\anaconda3\\lib\\site-packages (from sympy>=1.13.3->torch->openai-whisper) (1.3.0)\n",
      "Requirement already satisfied: colorama in c:\\users\\tomi\\anaconda3\\lib\\site-packages (from tqdm->openai-whisper) (0.4.6)\n",
      "Installing collected packages: pypub\n",
      "Successfully installed pypub-1.5\n"
     ]
    }
   ],
   "source": [
    "pip install openai-whisper pypub pandas"
   ]
  },
  {
   "cell_type": "code",
   "execution_count": 3,
   "id": "2541f6af-12e4-4fb5-b70c-b297600c400c",
   "metadata": {},
   "outputs": [
    {
     "name": "stdout",
     "output_type": "stream",
     "text": [
      "Collecting ffmpeg-pythonNote: you may need to restart the kernel to use updated packages.\n",
      "\n",
      "  Using cached ffmpeg_python-0.2.0-py3-none-any.whl.metadata (1.7 kB)\n",
      "Collecting future (from ffmpeg-python)\n",
      "  Using cached future-1.0.0-py3-none-any.whl.metadata (4.0 kB)\n",
      "Using cached ffmpeg_python-0.2.0-py3-none-any.whl (25 kB)\n",
      "Using cached future-1.0.0-py3-none-any.whl (491 kB)\n",
      "Installing collected packages: future, ffmpeg-python\n",
      "\n",
      "   ---------------------------------------- 0/2 [future]\n",
      "   ---------------------------------------- 0/2 [future]\n",
      "   ---------------------------------------- 0/2 [future]\n",
      "   ---------------------------------------- 0/2 [future]\n",
      "   ---------------------------------------- 0/2 [future]\n",
      "   ---------------------------------------- 0/2 [future]\n",
      "   ---------------------------------------- 0/2 [future]\n",
      "   ---------------------------------------- 0/2 [future]\n",
      "   ---------------------------------------- 0/2 [future]\n",
      "   ---------------------------------------- 0/2 [future]\n",
      "   ---------------------------------------- 0/2 [future]\n",
      "   ---------------------------------------- 0/2 [future]\n",
      "   -------------------- ------------------- 1/2 [ffmpeg-python]\n",
      "   ---------------------------------------- 2/2 [ffmpeg-python]\n",
      "\n",
      "Successfully installed ffmpeg-python-0.2.0 future-1.0.0\n"
     ]
    }
   ],
   "source": [
    "pip install ffmpeg-python"
   ]
  },
  {
   "cell_type": "code",
   "execution_count": 13,
   "id": "fc7ce8fd-0414-4fe1-81f6-62d849810bc2",
   "metadata": {},
   "outputs": [],
   "source": [
    "import whisper"
   ]
  },
  {
   "cell_type": "code",
   "execution_count": 5,
   "id": "ba11f862-8c87-4605-b16b-809b8df30388",
   "metadata": {},
   "outputs": [],
   "source": [
    "model = whisper.load_model(\"base\")"
   ]
  },
  {
   "cell_type": "code",
   "execution_count": 9,
   "id": "da32e291-e79d-456b-b525-0362a18b89b2",
   "metadata": {},
   "outputs": [],
   "source": [
    "audio_dir = r\"C:\\Users\\TOMI\\Documents\\customer_personality_profiling\\data\\raw\\customer\""
   ]
  },
  {
   "cell_type": "code",
   "execution_count": 10,
   "id": "25ea1ca8-f277-4528-b434-37cfeb99af69",
   "metadata": {},
   "outputs": [],
   "source": [
    "output_data = []"
   ]
  },
  {
   "cell_type": "code",
   "execution_count": 12,
   "id": "1f2f9f66-97de-437f-8fa8-fea2178f2109",
   "metadata": {},
   "outputs": [
    {
     "name": "stdout",
     "output_type": "stream",
     "text": [
      "Transcribing 0002f70f7386445b.wav, 1\n",
      "Transcribing 00d676d7058c49bb.wav, 2\n",
      "Transcribing 00f7dce6fc3849a2.wav, 3\n",
      "Transcribing 01cefd6f5c044a6f.wav, 4\n",
      "Transcribing 01f7ec3700424bc0.wav, 5\n",
      "Transcribing 02b03e407894474b.wav, 6\n",
      "Transcribing 02e41649e7c441fd.wav, 7\n",
      "Transcribing 0a37e848a9c04e0c.wav, 8\n",
      "Transcribing 0a6f57765f4641a2.wav, 9\n",
      "Transcribing 0a70acb6ef0c4e89.wav, 10\n",
      "Transcribing 0a76782d6ee84f73.wav, 11\n",
      "Transcribing 0a9e9e9be6634e38.wav, 12\n",
      "Transcribing 0ade4b6adcf941f0.wav, 13\n",
      "Transcribing 0afb6248e8dc45e1.wav, 14\n",
      "Transcribing 0b153339c9184252.wav, 15\n",
      "Transcribing 0b41e7d162844d45.wav, 16\n",
      "Transcribing 0b590e61350b4b53.wav, 17\n",
      "Transcribing 0b5d3de182a04159.wav, 18\n",
      "Transcribing 0b713578170540c2.wav, 19\n",
      "Transcribing 0b9480707d274d2b.wav, 20\n",
      "Transcribing 0bb871fd99d6437f.wav, 21\n",
      "Transcribing 0bbbedb40f224e9a.wav, 22\n",
      "Transcribing 0bc276cb4aa24507.wav, 23\n",
      "Transcribing 0bf0d8398c574373.wav, 24\n",
      "Transcribing 0bf2b746d42b4f84.wav, 25\n",
      "Transcribing 0c4dc74de76c4b06.wav, 26\n",
      "Transcribing 0c78f55cf0e3449f.wav, 27\n",
      "Transcribing 0c7b8cd8a7374ffc.wav, 28\n",
      "Transcribing 0c98468d8b914ea1.wav, 29\n",
      "Transcribing 0cae8d624dc04b47.wav, 30\n",
      "Transcribing 0ceef853f1264ddf.wav, 31\n",
      "Transcribing 0cf9c220d9a341ed.wav, 32\n",
      "Transcribing 0d48b37580c94ea6.wav, 33\n",
      "Transcribing 0d7efd9a397e4e02.wav, 34\n",
      "Transcribing 0de8d60b29d24dfd.wav, 35\n",
      "Transcribing 0dee81761a5c45f9.wav, 36\n",
      "Transcribing 0df17344420a41d5.wav, 37\n",
      "Transcribing 0df279dab5a44e6c.wav, 38\n",
      "Transcribing 0e2ad0dd8a6f4f83.wav, 39\n",
      "Transcribing 0e68932d3f014bbf.wav, 40\n",
      "Transcribing 0e8b236db74847ae.wav, 41\n",
      "Transcribing 0ec40e7af4444ad5.wav, 42\n",
      "Transcribing 0ec73a168f174a86.wav, 43\n",
      "Transcribing 0ece8b36d4c148b0.wav, 44\n",
      "Transcribing 0f17604f0b72402f.wav, 45\n",
      "Transcribing 0f4747d1a97f4388.wav, 46\n",
      "Transcribing 0f590c57de074605.wav, 47\n",
      "Transcribing 0f65cbb7a9a34628.wav, 48\n",
      "Transcribing 0f87dc392db84250.wav, 49\n",
      "Transcribing 0f8c2e76e42f44ad.wav, 50\n",
      "Transcribing 0f8e8b5f72bb4594.wav, 51\n",
      "Transcribing 0f9b6b19a234407a.wav, 52\n",
      "Transcribing 0feb6051d777432e.wav, 53\n",
      "Transcribing 1a1691098ae1400c.wav, 54\n",
      "Transcribing 1aae0815c5674b3b.wav, 55\n",
      "Transcribing 1ab5ddcc434d4997.wav, 56\n",
      "Transcribing 1ab81ec4157a4a29.wav, 57\n",
      "Transcribing 1ad1284bc1cf4e33.wav, 58\n",
      "Transcribing 1b54e6b1d25e45e5.wav, 59\n",
      "Transcribing 1b5cab5af4764845.wav, 60\n",
      "Transcribing 1b8d578a554c426a.wav, 61\n",
      "Transcribing 1ba998d93a404df6.wav, 62\n",
      "Transcribing 1bff41c3028e45c8.wav, 63\n",
      "Transcribing 1c4c69c3dc3d470d.wav, 64\n",
      "Transcribing 1c4e1b0407594bb9.wav, 65\n",
      "Transcribing 1c62afe72a494f34.wav, 66\n",
      "Transcribing 1c7d9e205d5344e5.wav, 67\n",
      "Transcribing 1c9c4822cbcd4676.wav, 68\n",
      "Transcribing 1d1ad6e932d44146.wav, 69\n",
      "Transcribing 1d31f40348ab4e5a.wav, 70\n",
      "Transcribing 1d412e405c724b25.wav, 71\n",
      "Transcribing 1d4a688a2f514fd4.wav, 72\n",
      "Transcribing 1d7820e0c2b74e3d.wav, 73\n",
      "Transcribing 1d786543925e4c6a.wav, 74\n",
      "Transcribing 1dcef09fb6374319.wav, 75\n",
      "Transcribing 1e2252fb09214f48.wav, 76\n",
      "Transcribing 1e47d21492244b04.wav, 77\n",
      "Transcribing 1e5176a3c04742fa.wav, 78\n",
      "Transcribing 1ef109d2f8424c01.wav, 79\n",
      "Transcribing 1f51347aeabe4f39.wav, 80\n",
      "Transcribing 1f7e8fcf454842ce.wav, 81\n",
      "Transcribing f070581705744ace.wav, 82\n",
      "Transcribing f083e9aefede4f26.wav, 83\n",
      "Transcribing f1111739bd834aa1.wav, 84\n",
      "Transcribing f13b0caf578f4a74.wav, 85\n",
      "Transcribing f17b47da27c449e0.wav, 86\n",
      "Transcribing f1833427d3a24ea8.wav, 87\n",
      "Transcribing f188899db7cd458a.wav, 88\n",
      "Transcribing f19d049c3ae54422.wav, 89\n",
      "Transcribing f26820c2fd1445bd.wav, 90\n",
      "Transcribing f276464c404a47e2.wav, 91\n",
      "Transcribing f30fe0cefb794198.wav, 92\n",
      "Transcribing f340f2934ef04530.wav, 93\n",
      "Transcribing f3727c2eb90042c9.wav, 94\n",
      "Transcribing f398737da1834ccb.wav, 95\n",
      "Transcribing f39aaffdd5d046b1.wav, 96\n",
      "Transcribing f39db1f65ed04810.wav, 97\n",
      "Transcribing f468128fbde04149.wav, 98\n",
      "Transcribing f4746f9fedbf4ee5.wav, 99\n",
      "Transcribing f47c6a470d6c4aa6.wav, 100\n",
      "Transcribing f51ec0c7d714424b.wav, 101\n",
      "Transcribing f52d4b1915584dff.wav, 102\n",
      "Transcribing f532ec6868af4fd6.wav, 103\n",
      "Transcribing f53f80ae25164926.wav, 104\n",
      "Transcribing f56a927ba1f643f7.wav, 105\n",
      "Transcribing f58e468ecd80474d.wav, 106\n",
      "Transcribing f596326a596a4bcc.wav, 107\n",
      "Transcribing f6265bb9bd98409d.wav, 108\n",
      "Transcribing f668f0034b4f4e97.wav, 109\n",
      "Transcribing f6954d062b2444c1.wav, 110\n",
      "Transcribing f7010963937449d3.wav, 111\n",
      "Transcribing f74d2f4499664b40.wav, 112\n",
      "Transcribing f752f5e5b7f34adf.wav, 113\n",
      "Transcribing f78667d43e34400b.wav, 114\n",
      "Transcribing f7891ff150d24238.wav, 115\n",
      "Transcribing f78be9dcf2d54334.wav, 116\n",
      "Transcribing f793221722af4fe5.wav, 117\n",
      "Transcribing f85f8bc3b7cc47ba.wav, 118\n",
      "Transcribing f8875f281dc1427a.wav, 119\n",
      "Transcribing f92c9662d77a4645.wav, 120\n",
      "Transcribing f97b4e058aa04216.wav, 121\n",
      "Transcribing f98d168b9f49447d.wav, 122\n",
      "Transcribing f9f57c44d80d4d75.wav, 123\n",
      "Transcribing fa2815e49ec64538.wav, 124\n",
      "Transcribing fa2b92ec375b45d4.wav, 125\n",
      "Transcribing fa69eec631834983.wav, 126\n",
      "Transcribing fa9cc187b49b4c89.wav, 127\n",
      "Transcribing fac8f08ea8414310.wav, 128\n",
      "Transcribing faecc73e62614249.wav, 129\n",
      "Transcribing faf12706cc9245f5.wav, 130\n",
      "Transcribing faf99f6f141845d2.wav, 131\n",
      "Transcribing fb035f9280074363.wav, 132\n",
      "Transcribing fb0907e0edbc4b15.wav, 133\n",
      "Transcribing fb6313dc5a674409.wav, 134\n",
      "Transcribing fb6437545dd94223.wav, 135\n",
      "Transcribing fb6cf856476648c9.wav, 136\n",
      "Transcribing fb743318c40c4e6f.wav, 137\n",
      "Transcribing fb7ffd4bdc004d0c.wav, 138\n",
      "Transcribing fb980cb8c7694f3f.wav, 139\n",
      "Transcribing fbac1228c6e94fa0.wav, 140\n",
      "Transcribing fbaddaf43b3f4c0b.wav, 141\n",
      "Transcribing fbf35114ccb44ace.wav, 142\n",
      "Transcribing fc66c1a1c15546c7.wav, 143\n",
      "Transcribing fca5716ccfbe45c4.wav, 144\n",
      "Transcribing fdea24591f314af0.wav, 145\n",
      "Transcribing fe4b20f68f0d4de3.wav, 146\n",
      "Transcribing fe5a642df4ae45a9.wav, 147\n",
      "Transcribing fe90f5edffb24a21.wav, 148\n",
      "Transcribing feb80666630a4b94.wav, 149\n",
      "Transcribing feb82e86eb764d7f.wav, 150\n",
      "Transcribing ff0296d00e5e4184.wav, 151\n"
     ]
    }
   ],
   "source": [
    "count = 0\n",
    "for filename in os.listdir(audio_dir):\n",
    "    if filename.endswith(\".wav\"):\n",
    "        count +=1\n",
    "        filepath = os.path.join(audio_dir, filename)\n",
    "        print(f\"Transcribing {filename}, {count}\")\n",
    "\n",
    "        result = model.transcribe(filepath)\n",
    "        text = result['text']\n",
    "\n",
    "        output_data.append({\"file name\": filename, \"transcript\": text})"
   ]
  },
  {
   "cell_type": "code",
   "execution_count": 14,
   "id": "1dd9e3d6-a625-407f-9b78-72cf260e4671",
   "metadata": {},
   "outputs": [],
   "source": [
    "import pandas as pd"
   ]
  },
  {
   "cell_type": "code",
   "execution_count": 15,
   "id": "9dab847c-3804-455c-b8c2-f7621074f4e5",
   "metadata": {},
   "outputs": [
    {
     "name": "stdout",
     "output_type": "stream",
     "text": [
      "DONE\n"
     ]
    }
   ],
   "source": [
    "df = pd.DataFrame(output_data)\n",
    "df.to_csv(\"transcripted.csv\", index=False)\n",
    "print(\"DONE\")"
   ]
  },
  {
   "cell_type": "code",
   "execution_count": 16,
   "id": "093f5433-ae47-456b-8cda-cee372122b53",
   "metadata": {},
   "outputs": [
    {
     "name": "stdout",
     "output_type": "stream",
     "text": [
      "Requirement already satisfied: pandas in c:\\users\\tomi\\anaconda3\\lib\\site-packages (2.2.3)Note: you may need to restart the kernel to use updated packages.\n",
      "\n",
      "Requirement already satisfied: numpy in c:\\users\\tomi\\anaconda3\\lib\\site-packages (2.1.3)\n",
      "Requirement already satisfied: regex in c:\\users\\tomi\\anaconda3\\lib\\site-packages (2024.11.6)\n",
      "Requirement already satisfied: unidecode in c:\\users\\tomi\\anaconda3\\lib\\site-packages (1.3.8)\n",
      "Collecting rapidfuzz\n",
      "  Downloading rapidfuzz-3.13.0-cp313-cp313-win_amd64.whl.metadata (12 kB)\n",
      "Requirement already satisfied: pyarrow in c:\\users\\tomi\\anaconda3\\lib\\site-packages (19.0.0)\n",
      "Requirement already satisfied: python-dateutil>=2.8.2 in c:\\users\\tomi\\anaconda3\\lib\\site-packages (from pandas) (2.9.0.post0)\n",
      "Requirement already satisfied: pytz>=2020.1 in c:\\users\\tomi\\anaconda3\\lib\\site-packages (from pandas) (2024.1)\n",
      "Requirement already satisfied: tzdata>=2022.7 in c:\\users\\tomi\\anaconda3\\lib\\site-packages (from pandas) (2025.2)\n",
      "Requirement already satisfied: six>=1.5 in c:\\users\\tomi\\anaconda3\\lib\\site-packages (from python-dateutil>=2.8.2->pandas) (1.17.0)\n",
      "Downloading rapidfuzz-3.13.0-cp313-cp313-win_amd64.whl (1.6 MB)\n",
      "   ---------------------------------------- 0.0/1.6 MB ? eta -:--:--\n",
      "   ---------------------------------------- 0.0/1.6 MB ? eta -:--:--\n",
      "   ---------------------------------------- 0.0/1.6 MB ? eta -:--:--\n",
      "   ------ --------------------------------- 0.3/1.6 MB ? eta -:--:--\n",
      "   ------------ --------------------------- 0.5/1.6 MB 738.1 kB/s eta 0:00:02\n",
      "   ------------ --------------------------- 0.5/1.6 MB 738.1 kB/s eta 0:00:02\n",
      "   ------------------- -------------------- 0.8/1.6 MB 757.9 kB/s eta 0:00:02\n",
      "   ------------------------- -------------- 1.0/1.6 MB 782.1 kB/s eta 0:00:01\n",
      "   ------------------------- -------------- 1.0/1.6 MB 782.1 kB/s eta 0:00:01\n",
      "   -------------------------------- ------- 1.3/1.6 MB 764.9 kB/s eta 0:00:01\n",
      "   -------------------------------------- - 1.6/1.6 MB 778.6 kB/s eta 0:00:01\n",
      "   ---------------------------------------- 1.6/1.6 MB 773.5 kB/s eta 0:00:00\n",
      "Installing collected packages: rapidfuzz\n",
      "Successfully installed rapidfuzz-3.13.0\n"
     ]
    }
   ],
   "source": [
    "pip install pandas numpy regex unidecode rapidfuzz pyarrow"
   ]
  },
  {
   "cell_type": "code",
   "execution_count": 19,
   "id": "1cdc3891-eeea-4d4c-a5cc-f5c2dbf39384",
   "metadata": {},
   "outputs": [
    {
     "name": "stderr",
     "output_type": "stream",
     "text": [
      "[nltk_data] Downloading package stopwords to\n",
      "[nltk_data]     C:\\Users\\TOMI\\AppData\\Roaming\\nltk_data...\n",
      "[nltk_data]   Package stopwords is already up-to-date!\n",
      "[nltk_data] Downloading package wordnet to\n",
      "[nltk_data]     C:\\Users\\TOMI\\AppData\\Roaming\\nltk_data...\n",
      "[nltk_data]   Package wordnet is already up-to-date!\n"
     ]
    },
    {
     "data": {
      "text/plain": [
       "True"
      ]
     },
     "execution_count": 19,
     "metadata": {},
     "output_type": "execute_result"
    }
   ],
   "source": [
    "import pandas as pd\n",
    "import re\n",
    "import nltk\n",
    "from nltk.corpus import stopwords\n",
    "from nltk.stem import WordNetLemmatizer\n",
    "\n",
    "# Download NLTK resources (only first time)\n",
    "nltk.download('stopwords')\n",
    "nltk.download('wordnet')"
   ]
  },
  {
   "cell_type": "code",
   "execution_count": 21,
   "id": "5d4391df-bfcd-4841-baac-36424c308203",
   "metadata": {},
   "outputs": [],
   "source": [
    "# Load your CSV\n",
    "df = pd.read_csv(\"transcripted.csv\")\n",
    "\n",
    "# Initialize tools\n",
    "stop_words = set(stopwords.words('english'))\n",
    "lemmatizer = WordNetLemmatizer()\n",
    "\n",
    "def clean_text(text):\n",
    "    text = text.lower()\n",
    "    text = re.sub(r'[^a-z\\s]', '', text)  # remove punctuation & numbers\n",
    "    tokens = text.split()\n",
    "    tokens = [word for word in tokens if word not in stop_words]\n",
    "    tokens = [lemmatizer.lemmatize(word) for word in tokens]\n",
    "    return \" \".join(tokens)\n",
    "\n"
   ]
  },
  {
   "cell_type": "code",
   "execution_count": 22,
   "id": "1ab64562-f66f-4b40-b3d7-42145e7e789c",
   "metadata": {},
   "outputs": [
    {
     "name": "stdout",
     "output_type": "stream",
     "text": [
      "✅ Preprocessing complete. Saved as preprocessed_conversation.csv\n",
      "              file name                                       cleaned_text\n",
      "0  0002f70f7386445b.wav  hi name patricia brown lost debit card send ne...\n",
      "1  004860b1ab2e4c88.wav  hi name mary smith lost credit card sent new o...\n",
      "2  0091a706bc604188.wav  hi name elizabeth davis need check account bal...\n",
      "3  00d676d7058c49bb.wav  name robert johnson would like transfer money ...\n",
      "4  00f7dce6fc3849a2.wav  hi name linda brown lost credit card send new ...\n"
     ]
    }
   ],
   "source": [
    "df['cleaned_text'] = df['transcript'].astype(str).apply(clean_text)\n",
    "\n",
    "# Save the cleaned data\n",
    "df.to_csv(\"preprocessed_conversation.csv\", index=False)\n",
    "print(\"✅ Preprocessing complete. Saved as preprocessed_conversation.csv\")\n",
    "print(df[['file name', 'cleaned_text']].head())"
   ]
  },
  {
   "cell_type": "code",
   "execution_count": 23,
   "id": "4ffadb7a-e6e2-44a8-bf73-afe848883d8f",
   "metadata": {},
   "outputs": [
    {
     "name": "stdout",
     "output_type": "stream",
     "text": [
      "Current Directory: C:\\Users\\TOMI\\Documents\\customer_personality_profiling\\notebooks\n",
      "✅ Preprocessed file saved at: C:\\Users\\TOMI\\Documents\\customer_personality_profiling\\notebooks\\preprocessed_conversation.csv\n"
     ]
    }
   ],
   "source": [
    "import os\n",
    "\n",
    "# Check current working directory\n",
    "print(\"Current Directory:\", os.getcwd())\n",
    "\n",
    "# Save file to this directory\n",
    "output_path = os.path.join(os.getcwd(), \"preprocessed_conversation.csv\")\n",
    "df.to_csv(output_path, index=False)\n",
    "print(f\"✅ Preprocessed file saved at: {output_path}\")\n"
   ]
  },
  {
   "cell_type": "code",
   "execution_count": null,
   "id": "aba557fc-6bcd-475d-9572-a2f1f90c3502",
   "metadata": {},
   "outputs": [],
   "source": []
  }
 ],
 "metadata": {
  "kernelspec": {
   "display_name": "Python 3 (ipykernel)",
   "language": "python",
   "name": "python3"
  },
  "language_info": {
   "codemirror_mode": {
    "name": "ipython",
    "version": 3
   },
   "file_extension": ".py",
   "mimetype": "text/x-python",
   "name": "python",
   "nbconvert_exporter": "python",
   "pygments_lexer": "ipython3",
   "version": "3.13.5"
  }
 },
 "nbformat": 4,
 "nbformat_minor": 5
}
