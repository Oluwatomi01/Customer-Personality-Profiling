{
 "cells": [
  {
   "cell_type": "code",
   "execution_count": 5,
   "id": "c82c83eb-563e-4656-9121-9da43e0676f9",
   "metadata": {},
   "outputs": [],
   "source": [
    "agent_dir = r\"C:\\Users\\TOMI\\Documents\\customer_personality_profiling\\data\\raw\\agent\"\n",
    "caller_dir = r\"C:\\Users\\TOMI\\Documents\\customer_personality_profiling\\data\\raw\\caller\"\n",
    "output_dir = r\"C:\\Users\\TOMI\\Documents\\customer_personality_profiling\\data\\merged\"\n",
    "\n",
    "os.makedirs(output_dir, exist_ok=True)"
   ]
  },
  {
   "cell_type": "code",
   "execution_count": 6,
   "id": "41ac045e-178e-49a0-8ed0-4197a55a3a04",
   "metadata": {},
   "outputs": [],
   "source": [
    "import librosa\n",
    "import soundfile as sf\n",
    "import os"
   ]
  },
  {
   "cell_type": "code",
   "execution_count": 7,
   "id": "6a350de6-d4aa-485b-8be0-226a8e10ab67",
   "metadata": {},
   "outputs": [],
   "source": [
    "from pydub import AudioSegment\n",
    "\n",
    "def merge_audio(agent_file, caller_file, output_path):\n",
    "    # Load and normalize audio\n",
    "    agent_audio = AudioSegment.from_file(agent_file).set_frame_rate(16000).set_channels(1)\n",
    "    caller_audio = AudioSegment.from_file(caller_file).set_frame_rate(16000).set_channels(1)\n",
    "\n",
    "    # Convert to raw samples\n",
    "    agent_samples = agent_audio.get_array_of_samples()\n",
    "    caller_samples = caller_audio.get_array_of_samples()\n",
    "\n",
    "    # Fix sample-level mismatch\n",
    "    if len(agent_samples) < len(caller_samples):\n",
    "        diff_samples = len(caller_samples) - len(agent_samples)\n",
    "        silence_duration = (diff_samples / 16000) * 1000  # convert samples to ms\n",
    "        agent_audio += AudioSegment.silent(duration=silence_duration)\n",
    "    elif len(caller_samples) < len(agent_samples):\n",
    "        diff_samples = len(agent_samples) - len(caller_samples)\n",
    "        silence_duration = (diff_samples / 16000) * 1000\n",
    "        caller_audio += AudioSegment.silent(duration=silence_duration)\n",
    "\n",
    "    # Re-check and trim if still off by 1 sample\n",
    "    if len(agent_audio.get_array_of_samples()) != len(caller_audio.get_array_of_samples()):\n",
    "        min_samples = min(len(agent_audio.get_array_of_samples()), len(caller_audio.get_array_of_samples()))\n",
    "        agent_audio = agent_audio[:min_samples]\n",
    "        caller_audio = caller_audio[:min_samples]\n",
    "\n",
    "    # Merge into stereo (agent = left, caller = right)\n",
    "    merged = AudioSegment.from_mono_audiosegments(agent_audio, caller_audio)\n",
    "\n",
    "    # Export merged file\n",
    "    merged.export(output_path, format=\"wav\")\n",
    "    print(f\"Merged: {output_path}\")\n"
   ]
  },
  {
   "cell_type": "code",
   "execution_count": 3,
   "id": "0573c266-c158-496c-ab16-e0d33d85bbc9",
   "metadata": {},
   "outputs": [],
   "source": [
    "from pydub import AudioSegment"
   ]
  },
  {
   "cell_type": "code",
   "execution_count": 8,
   "id": "7ce2f062-62da-4ab5-a823-f88de48e10a2",
   "metadata": {},
   "outputs": [],
   "source": [
    "def merge_audio(agent_file, caller_file, output_path):\n",
    "    agent_audio = AudioSegment.from_file(agent_file)\n",
    "    caller_audio = AudioSegment.from_file(caller_file)\n",
    "\n",
    "    agent_audio =agent_audio.set_frame_rate(16000).set_channels(1)\n",
    "    caller_audio = caller_audio.set_frame_rate(16000).set_channels(1)\n",
    "\n",
    "    if len(agent_audio) > len(caller_audio):\n",
    "        caller_audio = caller_audio + AudioSegment.silent(duration=len(agent_audio) - len(caller_audio))\n",
    "    else:\n",
    "        agent_audio = agent_audio + AudioSegment.silent(duration=len(caller_audio) - len(agent_audio))\n",
    "\n",
    "    merged = AudioSegment.from_mono_audiosegments(agent_audio, caller_audio)\n",
    "\n",
    "    merged.export(output_path, format=\"wav\")\n",
    "    print(f\"Merged: {output_path}\")"
   ]
  },
  {
   "cell_type": "code",
   "execution_count": 9,
   "id": "58e30614-5cd5-4cda-bc2f-674425ad7a63",
   "metadata": {},
   "outputs": [],
   "source": [
    "import os"
   ]
  },
  {
   "cell_type": "code",
   "execution_count": 14,
   "id": "1c8e6ea7-fe01-498b-b045-3b7e7cdc2d5e",
   "metadata": {},
   "outputs": [
    {
     "ename": "ValueError",
     "evalue": "attempt to assign array of size 817758 to extended slice of size 817759",
     "output_type": "error",
     "traceback": [
      "\u001b[1;31m---------------------------------------------------------------------------\u001b[0m",
      "\u001b[1;31mValueError\u001b[0m                                Traceback (most recent call last)",
      "Cell \u001b[1;32mIn[14], line 9\u001b[0m\n\u001b[0;32m      7\u001b[0m \u001b[38;5;28;01mif\u001b[39;00m os\u001b[38;5;241m.\u001b[39mpath\u001b[38;5;241m.\u001b[39mexists(caller_path):\n\u001b[0;32m      8\u001b[0m     output_path \u001b[38;5;241m=\u001b[39m os\u001b[38;5;241m.\u001b[39mpath\u001b[38;5;241m.\u001b[39mjoin(output_dir, agent_file\u001b[38;5;241m.\u001b[39mreplace(\u001b[38;5;124m\"\u001b[39m\u001b[38;5;124m.wav\u001b[39m\u001b[38;5;124m\"\u001b[39m, \u001b[38;5;124m\"\u001b[39m\u001b[38;5;124m_merged.wav\u001b[39m\u001b[38;5;124m\"\u001b[39m))\n\u001b[1;32m----> 9\u001b[0m     merge_audio(agent_path, caller_path, output_path)\n\u001b[0;32m     10\u001b[0m \u001b[38;5;28;01melse\u001b[39;00m:\n\u001b[0;32m     11\u001b[0m     \u001b[38;5;28mprint\u001b[39m(\u001b[38;5;124mf\u001b[39m\u001b[38;5;124m\"\u001b[39m\u001b[38;5;124mCaller file not found for \u001b[39m\u001b[38;5;132;01m{\u001b[39;00magent_file\u001b[38;5;132;01m}\u001b[39;00m\u001b[38;5;124m\"\u001b[39m)\n",
      "Cell \u001b[1;32mIn[8], line 13\u001b[0m, in \u001b[0;36mmerge_audio\u001b[1;34m(agent_file, caller_file, output_path)\u001b[0m\n\u001b[0;32m     10\u001b[0m \u001b[38;5;28;01melse\u001b[39;00m:\n\u001b[0;32m     11\u001b[0m     agent_audio \u001b[38;5;241m=\u001b[39m agent_audio \u001b[38;5;241m+\u001b[39m AudioSegment\u001b[38;5;241m.\u001b[39msilent(duration\u001b[38;5;241m=\u001b[39m\u001b[38;5;28mlen\u001b[39m(caller_audio) \u001b[38;5;241m-\u001b[39m \u001b[38;5;28mlen\u001b[39m(agent_audio))\n\u001b[1;32m---> 13\u001b[0m merged \u001b[38;5;241m=\u001b[39m AudioSegment\u001b[38;5;241m.\u001b[39mfrom_mono_audiosegments(agent_audio, caller_audio)\n\u001b[0;32m     15\u001b[0m merged\u001b[38;5;241m.\u001b[39mexport(output_path, \u001b[38;5;28mformat\u001b[39m\u001b[38;5;241m=\u001b[39m\u001b[38;5;124m\"\u001b[39m\u001b[38;5;124mwav\u001b[39m\u001b[38;5;124m\"\u001b[39m)\n\u001b[0;32m     16\u001b[0m \u001b[38;5;28mprint\u001b[39m(\u001b[38;5;124mf\u001b[39m\u001b[38;5;124m\"\u001b[39m\u001b[38;5;124mMerged: \u001b[39m\u001b[38;5;132;01m{\u001b[39;00moutput_path\u001b[38;5;132;01m}\u001b[39;00m\u001b[38;5;124m\"\u001b[39m)\n",
      "File \u001b[1;32m~\\anaconda3\\Lib\\site-packages\\pydub\\audio_segment.py:496\u001b[0m, in \u001b[0;36mAudioSegment.from_mono_audiosegments\u001b[1;34m(cls, *mono_segments)\u001b[0m\n\u001b[0;32m    490\u001b[0m data \u001b[38;5;241m=\u001b[39m array\u001b[38;5;241m.\u001b[39marray(\n\u001b[0;32m    491\u001b[0m     segs[\u001b[38;5;241m0\u001b[39m]\u001b[38;5;241m.\u001b[39marray_type,\n\u001b[0;32m    492\u001b[0m     \u001b[38;5;124mb\u001b[39m\u001b[38;5;124m'\u001b[39m\u001b[38;5;130;01m\\0\u001b[39;00m\u001b[38;5;124m'\u001b[39m \u001b[38;5;241m*\u001b[39m (frame_count \u001b[38;5;241m*\u001b[39m sample_width \u001b[38;5;241m*\u001b[39m channels)\n\u001b[0;32m    493\u001b[0m )\n\u001b[0;32m    495\u001b[0m \u001b[38;5;28;01mfor\u001b[39;00m i, seg \u001b[38;5;129;01min\u001b[39;00m \u001b[38;5;28menumerate\u001b[39m(segs):\n\u001b[1;32m--> 496\u001b[0m     data[i::channels] \u001b[38;5;241m=\u001b[39m seg\u001b[38;5;241m.\u001b[39mget_array_of_samples()\n\u001b[0;32m    498\u001b[0m \u001b[38;5;28;01mreturn\u001b[39;00m \u001b[38;5;28mcls\u001b[39m(\n\u001b[0;32m    499\u001b[0m     data,\n\u001b[0;32m    500\u001b[0m     channels\u001b[38;5;241m=\u001b[39mchannels,\n\u001b[0;32m    501\u001b[0m     sample_width\u001b[38;5;241m=\u001b[39msample_width,\n\u001b[0;32m    502\u001b[0m     frame_rate\u001b[38;5;241m=\u001b[39mframe_rate,\n\u001b[0;32m    503\u001b[0m )\n",
      "\u001b[1;31mValueError\u001b[0m: attempt to assign array of size 817758 to extended slice of size 817759"
     ]
    }
   ],
   "source": [
    "for agent_file in os.listdir(agent_dir):\n",
    "    if agent_file.endswith(\".wav\"):\n",
    "        caller_file = f\"{agent_file}_caller.wav\"\n",
    "        agent_path = os.path.join(agent_dir, agent_file)\n",
    "        caller_path = os.path.join(caller_dir, agent_file)\n",
    "\n",
    "        if os.path.exists(caller_path):\n",
    "            output_path = os.path.join(output_dir, agent_file.replace(\".wav\", \"_merged.wav\"))\n",
    "            merge_audio(agent_path, caller_path, output_path)\n",
    "        else:\n",
    "            print(f\"Caller file not found for {agent_file}\")\n"
   ]
  },
  {
   "cell_type": "code",
   "execution_count": 8,
   "id": "2911e767-f421-44b7-9413-ed4418d8f210",
   "metadata": {},
   "outputs": [],
   "source": []
  },
  {
   "cell_type": "code",
   "execution_count": null,
   "id": "d9e2cef6-ee70-4f41-8fd4-5ca281feaf92",
   "metadata": {},
   "outputs": [],
   "source": []
  }
 ],
 "metadata": {
  "kernelspec": {
   "display_name": "Python 3 (ipykernel)",
   "language": "python",
   "name": "python3"
  },
  "language_info": {
   "codemirror_mode": {
    "name": "ipython",
    "version": 3
   },
   "file_extension": ".py",
   "mimetype": "text/x-python",
   "name": "python",
   "nbconvert_exporter": "python",
   "pygments_lexer": "ipython3",
   "version": "3.13.5"
  }
 },
 "nbformat": 4,
 "nbformat_minor": 5
}
